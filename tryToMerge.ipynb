{
 "cells": [
  {
   "cell_type": "code",
   "execution_count": 1,
   "id": "dbdbd8d3",
   "metadata": {},
   "outputs": [],
   "source": [
    "%matplotlib inline\n",
    "# Importing standard Qiskit libraries\n",
    "from qiskit import QuantumCircuit, execute, Aer, IBMQ\n",
    "from qiskit.compiler import transpile, assemble\n",
    "from qiskit.tools.jupyter import *\n",
    "from qiskit.visualization import *\n",
    "from ibm_quantum_widgets import *\n",
    "\n",
    "from qiskit import QuantumRegister\n",
    "\n",
    "# Loading your IBM Q account(s)\n",
    "provider = IBMQ.load_account()"
   ]
  },
  {
   "cell_type": "code",
   "execution_count": 3,
   "id": "784b28cc",
   "metadata": {},
   "outputs": [
    {
     "name": "stdout",
     "output_type": "stream",
     "text": [
      "Collecting pennylane-qiskit\n",
      "  Using cached PennyLane_qiskit-0.15.0-py3-none-any.whl (21 kB)\n",
      "Collecting pennylane>=0.15\n",
      "  Using cached PennyLane-0.15.0-py3-none-any.whl (454 kB)\n",
      "Requirement already satisfied: numpy in /opt/conda/lib/python3.8/site-packages (from pennylane-qiskit) (1.20.1)\n",
      "Requirement already satisfied: networkx>=2.2 in /opt/conda/lib/python3.8/site-packages (from pennylane-qiskit) (2.5.1)\n",
      "Requirement already satisfied: qiskit>=0.25 in /opt/conda/lib/python3.8/site-packages (from pennylane-qiskit) (0.25.0)\n",
      "Requirement already satisfied: decorator<5,>=4.3 in /opt/conda/lib/python3.8/site-packages (from networkx>=2.2->pennylane-qiskit) (4.4.2)\n",
      "Collecting semantic-version==2.6\n",
      "  Using cached semantic_version-2.6.0-py3-none-any.whl (14 kB)\n",
      "Collecting autograd\n",
      "  Using cached autograd-1.3-py3-none-any.whl\n",
      "Requirement already satisfied: toml in /opt/conda/lib/python3.8/site-packages (from pennylane>=0.15->pennylane-qiskit) (0.10.2)\n",
      "Requirement already satisfied: appdirs in /opt/conda/lib/python3.8/site-packages (from pennylane>=0.15->pennylane-qiskit) (1.4.4)\n",
      "Requirement already satisfied: scipy in /opt/conda/lib/python3.8/site-packages (from pennylane>=0.15->pennylane-qiskit) (1.6.1)\n",
      "Requirement already satisfied: qiskit-aer==0.8.0 in /opt/conda/lib/python3.8/site-packages (from qiskit>=0.25->pennylane-qiskit) (0.8.0)\n",
      "Requirement already satisfied: qiskit-terra==0.17.0 in /opt/conda/lib/python3.8/site-packages (from qiskit>=0.25->pennylane-qiskit) (0.17.0)\n",
      "Requirement already satisfied: qiskit-ibmq-provider==0.12.2 in /opt/conda/lib/python3.8/site-packages (from qiskit>=0.25->pennylane-qiskit) (0.12.2)\n",
      "Requirement already satisfied: qiskit-ignis==0.6.0 in /opt/conda/lib/python3.8/site-packages (from qiskit>=0.25->pennylane-qiskit) (0.6.0)\n",
      "Requirement already satisfied: qiskit-aqua==0.9.0 in /opt/conda/lib/python3.8/site-packages (from qiskit>=0.25->pennylane-qiskit) (0.9.0)\n",
      "Requirement already satisfied: pybind11>=2.6 in /opt/conda/lib/python3.8/site-packages (from qiskit-aer==0.8.0->qiskit>=0.25->pennylane-qiskit) (2.6.2)\n",
      "Requirement already satisfied: pandas<=1.2.3 in /opt/conda/lib/python3.8/site-packages (from qiskit-aqua==0.9.0->qiskit>=0.25->pennylane-qiskit) (1.2.3)\n",
      "Requirement already satisfied: sympy<=1.7.1,>=1.3 in /opt/conda/lib/python3.8/site-packages (from qiskit-aqua==0.9.0->qiskit>=0.25->pennylane-qiskit) (1.7.1)\n",
      "Requirement already satisfied: quandl<=3.6.0 in /opt/conda/lib/python3.8/site-packages (from qiskit-aqua==0.9.0->qiskit>=0.25->pennylane-qiskit) (3.6.0)\n",
      "Requirement already satisfied: retworkx<=0.8.0,>=0.7.0 in /opt/conda/lib/python3.8/site-packages (from qiskit-aqua==0.9.0->qiskit>=0.25->pennylane-qiskit) (0.8.0)\n",
      "Requirement already satisfied: scikit-learn<=0.24.1,>=0.20.0 in /opt/conda/lib/python3.8/site-packages (from qiskit-aqua==0.9.0->qiskit>=0.25->pennylane-qiskit) (0.24.1)\n",
      "Requirement already satisfied: dlx<=1.0.4 in /opt/conda/lib/python3.8/site-packages (from qiskit-aqua==0.9.0->qiskit>=0.25->pennylane-qiskit) (1.0.4)\n",
      "Requirement already satisfied: fastdtw<=0.3.4 in /opt/conda/lib/python3.8/site-packages (from qiskit-aqua==0.9.0->qiskit>=0.25->pennylane-qiskit) (0.3.4)\n",
      "Requirement already satisfied: setuptools>=40.1.0 in /opt/conda/lib/python3.8/site-packages (from qiskit-aqua==0.9.0->qiskit>=0.25->pennylane-qiskit) (56.0.0)\n",
      "Requirement already satisfied: yfinance<=0.1.55 in /opt/conda/lib/python3.8/site-packages (from qiskit-aqua==0.9.0->qiskit>=0.25->pennylane-qiskit) (0.1.55)\n",
      "Requirement already satisfied: psutil<=5.8.0,>=5 in /opt/conda/lib/python3.8/site-packages (from qiskit-aqua==0.9.0->qiskit>=0.25->pennylane-qiskit) (5.8.0)\n",
      "Requirement already satisfied: docplex<=2.20.204 in /opt/conda/lib/python3.8/site-packages (from qiskit-aqua==0.9.0->qiskit>=0.25->pennylane-qiskit) (2.20.204)\n",
      "Requirement already satisfied: h5py<=3.1.0 in /opt/conda/lib/python3.8/site-packages (from qiskit-aqua==0.9.0->qiskit>=0.25->pennylane-qiskit) (3.1.0)\n",
      "Requirement already satisfied: requests>=2.19 in /opt/conda/lib/python3.8/site-packages (from qiskit-ibmq-provider==0.12.2->qiskit>=0.25->pennylane-qiskit) (2.25.1)\n",
      "Requirement already satisfied: requests-ntlm>=1.1.0 in /opt/conda/lib/python3.8/site-packages (from qiskit-ibmq-provider==0.12.2->qiskit>=0.25->pennylane-qiskit) (1.1.0)\n",
      "Requirement already satisfied: python-dateutil>=2.8.0 in /opt/conda/lib/python3.8/site-packages (from qiskit-ibmq-provider==0.12.2->qiskit>=0.25->pennylane-qiskit) (2.8.1)\n",
      "Requirement already satisfied: urllib3>=1.21.1 in /opt/conda/lib/python3.8/site-packages (from qiskit-ibmq-provider==0.12.2->qiskit>=0.25->pennylane-qiskit) (1.26.4)\n",
      "Requirement already satisfied: websockets>=8 in /opt/conda/lib/python3.8/site-packages (from qiskit-ibmq-provider==0.12.2->qiskit>=0.25->pennylane-qiskit) (8.1)\n",
      "Requirement already satisfied: nest-asyncio!=1.1.0,>=1.0.0 in /opt/conda/lib/python3.8/site-packages (from qiskit-ibmq-provider==0.12.2->qiskit>=0.25->pennylane-qiskit) (1.5.1)\n",
      "Requirement already satisfied: jsonschema>=2.6 in /opt/conda/lib/python3.8/site-packages (from qiskit-terra==0.17.0->qiskit>=0.25->pennylane-qiskit) (3.2.0)\n",
      "Requirement already satisfied: ply>=3.10 in /opt/conda/lib/python3.8/site-packages (from qiskit-terra==0.17.0->qiskit>=0.25->pennylane-qiskit) (3.11)\n",
      "Requirement already satisfied: python-constraint>=1.4 in /opt/conda/lib/python3.8/site-packages (from qiskit-terra==0.17.0->qiskit>=0.25->pennylane-qiskit) (1.4.0)\n",
      "Requirement already satisfied: dill>=0.3 in /opt/conda/lib/python3.8/site-packages (from qiskit-terra==0.17.0->qiskit>=0.25->pennylane-qiskit) (0.3.3)\n",
      "Requirement already satisfied: fastjsonschema>=2.10 in /opt/conda/lib/python3.8/site-packages (from qiskit-terra==0.17.0->qiskit>=0.25->pennylane-qiskit) (2.15.0)\n",
      "Requirement already satisfied: six in /opt/conda/lib/python3.8/site-packages (from docplex<=2.20.204->qiskit-aqua==0.9.0->qiskit>=0.25->pennylane-qiskit) (1.15.0)\n",
      "Requirement already satisfied: pyrsistent>=0.14.0 in /opt/conda/lib/python3.8/site-packages (from jsonschema>=2.6->qiskit-terra==0.17.0->qiskit>=0.25->pennylane-qiskit) (0.17.3)\n",
      "Requirement already satisfied: attrs>=17.4.0 in /opt/conda/lib/python3.8/site-packages (from jsonschema>=2.6->qiskit-terra==0.17.0->qiskit>=0.25->pennylane-qiskit) (20.3.0)\n",
      "Requirement already satisfied: pytz>=2017.3 in /opt/conda/lib/python3.8/site-packages (from pandas<=1.2.3->qiskit-aqua==0.9.0->qiskit>=0.25->pennylane-qiskit) (2021.1)\n",
      "Requirement already satisfied: inflection>=0.3.1 in /opt/conda/lib/python3.8/site-packages (from quandl<=3.6.0->qiskit-aqua==0.9.0->qiskit>=0.25->pennylane-qiskit) (0.5.1)\n",
      "Requirement already satisfied: more-itertools in /opt/conda/lib/python3.8/site-packages (from quandl<=3.6.0->qiskit-aqua==0.9.0->qiskit>=0.25->pennylane-qiskit) (8.7.0)\n",
      "Requirement already satisfied: idna<3,>=2.5 in /opt/conda/lib/python3.8/site-packages (from requests>=2.19->qiskit-ibmq-provider==0.12.2->qiskit>=0.25->pennylane-qiskit) (2.10)\n",
      "Requirement already satisfied: chardet<5,>=3.0.2 in /opt/conda/lib/python3.8/site-packages (from requests>=2.19->qiskit-ibmq-provider==0.12.2->qiskit>=0.25->pennylane-qiskit) (4.0.0)\n",
      "Requirement already satisfied: certifi>=2017.4.17 in /opt/conda/lib/python3.8/site-packages (from requests>=2.19->qiskit-ibmq-provider==0.12.2->qiskit>=0.25->pennylane-qiskit) (2020.12.5)\n",
      "Requirement already satisfied: cryptography>=1.3 in /opt/conda/lib/python3.8/site-packages (from requests-ntlm>=1.1.0->qiskit-ibmq-provider==0.12.2->qiskit>=0.25->pennylane-qiskit) (3.4.7)\n",
      "Requirement already satisfied: ntlm-auth>=1.0.2 in /opt/conda/lib/python3.8/site-packages (from requests-ntlm>=1.1.0->qiskit-ibmq-provider==0.12.2->qiskit>=0.25->pennylane-qiskit) (1.5.0)\n",
      "Requirement already satisfied: cffi>=1.12 in /opt/conda/lib/python3.8/site-packages (from cryptography>=1.3->requests-ntlm>=1.1.0->qiskit-ibmq-provider==0.12.2->qiskit>=0.25->pennylane-qiskit) (1.14.5)\n",
      "Requirement already satisfied: pycparser in /opt/conda/lib/python3.8/site-packages (from cffi>=1.12->cryptography>=1.3->requests-ntlm>=1.1.0->qiskit-ibmq-provider==0.12.2->qiskit>=0.25->pennylane-qiskit) (2.20)\n",
      "Requirement already satisfied: joblib>=0.11 in /opt/conda/lib/python3.8/site-packages (from scikit-learn<=0.24.1,>=0.20.0->qiskit-aqua==0.9.0->qiskit>=0.25->pennylane-qiskit) (1.0.1)\n",
      "Requirement already satisfied: threadpoolctl>=2.0.0 in /opt/conda/lib/python3.8/site-packages (from scikit-learn<=0.24.1,>=0.20.0->qiskit-aqua==0.9.0->qiskit>=0.25->pennylane-qiskit) (2.1.0)\n",
      "Requirement already satisfied: mpmath>=0.19 in /opt/conda/lib/python3.8/site-packages (from sympy<=1.7.1,>=1.3->qiskit-aqua==0.9.0->qiskit>=0.25->pennylane-qiskit) (1.2.1)\n"
     ]
    },
    {
     "name": "stdout",
     "output_type": "stream",
     "text": [
      "Requirement already satisfied: lxml>=4.5.1 in /opt/conda/lib/python3.8/site-packages (from yfinance<=0.1.55->qiskit-aqua==0.9.0->qiskit>=0.25->pennylane-qiskit) (4.6.3)\n",
      "Requirement already satisfied: multitasking>=0.0.7 in /opt/conda/lib/python3.8/site-packages (from yfinance<=0.1.55->qiskit-aqua==0.9.0->qiskit>=0.25->pennylane-qiskit) (0.0.9)\n",
      "Collecting future>=0.15.2\n",
      "  Using cached future-0.18.2-py3-none-any.whl\n",
      "Installing collected packages: future, semantic-version, autograd, pennylane, pennylane-qiskit\n",
      "Successfully installed autograd-1.3 future-0.18.2 pennylane-0.15.0 pennylane-qiskit-0.15.0 semantic-version-2.6.0\n",
      "Note: you may need to restart the kernel to use updated packages.\n"
     ]
    }
   ],
   "source": [
    "pip install pennylane-qiskit"
   ]
  },
  {
   "cell_type": "code",
   "execution_count": 4,
   "id": "9d5ea962",
   "metadata": {},
   "outputs": [],
   "source": [
    "#pip install qiskit-tensorflow\n",
    "#import tensorflow as tf"
   ]
  },
  {
   "cell_type": "code",
   "execution_count": 5,
   "id": "ecc5d424",
   "metadata": {},
   "outputs": [],
   "source": [
    "import pennylane as qml\n",
    "from pennylane.templates import AmplitudeEmbedding\n",
    "\n",
    "dev = qml.device('default.qubit', wires=2)\n",
    "\n",
    "@qml.qnode(dev)\n",
    "def circuit(f=None):\n",
    "    AmplitudeEmbedding(features=f, wires=range(2), normalize=True)\n",
    "    return qml.expval(qml.PauliZ(0))"
   ]
  },
  {
   "cell_type": "code",
   "execution_count": 6,
   "id": "19a7c96c",
   "metadata": {},
   "outputs": [],
   "source": [
    "def oneDimVecConverter(thisList):\n",
    "    encoded = []\n",
    "    for i in range(5,len(thisList)):\n",
    "        top = thisList[i-5:i-5+2]\n",
    "        bottom = thisList[i-2:i]\n",
    "        window = top + bottom\n",
    "        #print(newList)\n",
    "        encoded.append(circuit(f=window))\n",
    "    return encoded"
   ]
  },
  {
   "cell_type": "code",
   "execution_count": 7,
   "id": "eff4066f",
   "metadata": {
    "scrolled": false
   },
   "outputs": [
    {
     "data": {
      "text/plain": [
       "[tensor(-0.8, requires_grad=True),\n",
       " tensor(0.38461538, requires_grad=True),\n",
       " tensor(0.69767442, requires_grad=True),\n",
       " tensor(0.71173848, requires_grad=True),\n",
       " tensor(-0.76623377, requires_grad=True),\n",
       " tensor(-0.54738878, requires_grad=True),\n",
       " tensor(-0.19502075, requires_grad=True),\n",
       " tensor(1., requires_grad=True),\n",
       " tensor(-0.18032787, requires_grad=True),\n",
       " tensor(-0.77777778, requires_grad=True),\n",
       " tensor(-1., requires_grad=True)]"
      ]
     },
     "execution_count": 7,
     "metadata": {},
     "output_type": "execute_result"
    }
   ],
   "source": [
    "from sklearn.preprocessing import MinMaxScaler\n",
    "data = [[-1, 2, 4, 8], [-2, 6, 4, 3], [0, 10, 1, 2], [1, 18, 9, 6]]\n",
    "scaler = MinMaxScaler()\n",
    "scaler.fit(data)\n",
    "scaledData = scaler.transform(data)\n",
    "\n",
    "scaledData = scaledData.tolist()\n",
    "#print(scaledData)\n",
    "\n",
    "oneDimVec = []\n",
    "for i in range(4):\n",
    "    for j in range(4):\n",
    "        oneDimVec.append(scaledData[i][j])\n",
    "\n",
    "someList = oneDimVecConverter(oneDimVec)\n",
    "someList = [num for num in someList]\n",
    "someList"
   ]
  },
  {
   "cell_type": "markdown",
   "id": "698bfd0d",
   "metadata": {},
   "source": [
    "<h1> ----------------------------------------------------------------- </h1>"
   ]
  },
  {
   "cell_type": "code",
   "execution_count": 2,
   "id": "a2f667ed",
   "metadata": {},
   "outputs": [],
   "source": [
    "numOfInputs = 4\n",
    "numOfOutputs = 4"
   ]
  },
  {
   "cell_type": "code",
   "execution_count": 10,
   "id": "88cac32f",
   "metadata": {},
   "outputs": [],
   "source": [
    "# Function: Creates Controlled-NOT Gates (CNOT) and Barriers for aesthetics \n",
    "# Parameters: 'circuit', 'channels'\n",
    "#     'circuit' : quantum circuit \n",
    "#    'channels' : number of active states in circuit (generally same as 'numIn')\n",
    "def CNOT_and_Barriers(circuit, channels):\n",
    "    for channel in range(channels-1):\n",
    "        circuit.cx(channel, channel+1)\n",
    "        for count in range(channel):\n",
    "            circuit.barrier(count)\n",
    "\n",
    "def clusterStateQC(numIn, numOut, quReg):\n",
    "    #qr1 = QuantumRegister(numIn)\n",
    "    \n",
    "    # Define Cluster State Quantum Circuit (abbreviated: cs_qc) \n",
    "    # numIn = number of initial quantum states \n",
    "    # numOut = number of output states of cs_qc (likely same as numIn)\n",
    "    cs_qc = QuantumCircuit()\n",
    "    #numIn, numOut\n",
    "    cs_qc.add_register(quReg)\n",
    "    # For testing this circuit, we can reset all inputs to this circuit to 0. \n",
    "    # Ideally, the CtoQ encoder code will encode classical data to initial quantum states as inputs to this circuit. \n",
    "    #for i in range(numIn):\n",
    "    #    cs_qc.reset(i)\n",
    "    \n",
    "    # Hadamard Gates for all incoming feature inputs to achieve superposition of states\n",
    "    for num in range(numIn):\n",
    "        cs_qc.h(quReg[num])\n",
    "    #cs_qc.h(range(numIn))\n",
    "        \n",
    "    # Place Controlled-NOT Gates (CNOT) for entanglement and barriers for aesthetics\n",
    "    #CNOT_and_Barriers(cs_qc, numIn)\n",
    "    \n",
    "    # Place Pauli-Y Gates (Y) for rotation of states about y-axis \n",
    "    for num in range(numIn):\n",
    "        cs_qc.y(quReg[num])\n",
    "    #cs_qc.y(range(numIn))\n",
    "    \n",
    "    # Place Controlled-NOT Gates (CNOT) for entanglement and barriers for aesthetics\n",
    "    #CNOT_and_Barriers(cs_qc, numIn)  \n",
    "    \n",
    "    # For testing this circuit, we can measure the outputs\n",
    "    # We should expect to see that the probabilities for the outputs of the circuit vary each time we re-execute the simulation. \n",
    "    #for i in range(numOut):\n",
    "    #    cs_qc.measure(i,i)\n",
    "    \n",
    "    return cs_qc"
   ]
  },
  {
   "cell_type": "code",
   "execution_count": null,
   "id": "b8e0e278",
   "metadata": {},
   "outputs": [],
   "source": []
  },
  {
   "cell_type": "code",
   "execution_count": 11,
   "id": "2a359166",
   "metadata": {},
   "outputs": [
    {
     "data": {
      "image/png": "[encoded data removed]",
      "text/plain": [
       "<Figure size 206.707x264.88 with 1 Axes>"
      ]
     },
     "execution_count": 11,
     "metadata": {},
     "output_type": "execute_result"
    }
   ],
   "source": [
    "#finalCircuit = QuantumCircuit(numOfInputs, numOfOutputs)\n",
    "finalCircuit = QuantumCircuit()\n",
    "#finalCircuit.add_register(qr)\n",
    "qr = QuantumRegister(numOfInputs,'a')\n",
    "#finalCircuit.add_register(qr)\n",
    "\n",
    "#initial_state = [oneDimVec[0],1]\n",
    "#for i in range(numOfInputs):\n",
    "#    None\n",
    "    #finalCircuit.initialize([oneDimVec[i],oneDimVec[i+1]], i) # Apply initialisation operation to the 0th qubit\n",
    "    #finalCircuit.reset(someList[i])\n",
    "#finalCircuit.barrier()\n",
    "\n",
    "finalCircuit += clusterStateQC(numIn=numOfInputs, numOut=numOfOutputs, quReg=qr)\n",
    "    \n",
    "finalCircuit.draw()"
   ]
  },
  {
   "cell_type": "code",
   "execution_count": 6,
   "id": "88fd3ba6",
   "metadata": {},
   "outputs": [],
   "source": [
    "import math\n",
    "pi = math.pi\n",
    "\n",
    "default = pi/2 \n",
    "params = {'theta' : [round(pi*i/8,2) for i in range(numOfInputs)], \n",
    "            'phi' : [round(pi*i/8,2) for i in range(numOfInputs)], \n",
    "            'lam' : [round(pi*i/8,2) for i in range(numOfInputs)]}\n",
    "numOfLayers = 2\n",
    "parameters = {}\n",
    "for i in range(numOfLayers):\n",
    "    parameters[i] = params"
   ]
  },
  {
   "cell_type": "code",
   "execution_count": 7,
   "id": "4c163426",
   "metadata": {},
   "outputs": [],
   "source": [
    "def qConvLayer(paramDict, shift, inputs):\n",
    "    qConv = QuantumCircuit(inputs)\n",
    "    for i in range(0+shift,inputs-1,2):\n",
    "        index = int(i)\n",
    "        if (i%2==shift):\n",
    "            qConv.cu3(paramDict['theta'][index], paramDict['phi'][index], paramDict['lam'][index], \n",
    "                      control_qubit=index, target_qubit=index+1)\n",
    "    return qConv"
   ]
  },
  {
   "cell_type": "code",
   "execution_count": 8,
   "id": "43ae9ab1",
   "metadata": {},
   "outputs": [],
   "source": [
    "def qPoolLayer(inputs):\n",
    "    qPool = QuantumCircuit(inputs,inputs)\n",
    "    for i in range(inputs):\n",
    "        j=i\n",
    "        if (i%2==0):\n",
    "            qPool.measure(i,j)\n",
    "    qPool.barrier()\n",
    "    return qPool"
   ]
  },
  {
   "cell_type": "code",
   "execution_count": 9,
   "id": "266a4d06",
   "metadata": {},
   "outputs": [
    {
     "name": "stderr",
     "output_type": "stream",
     "text": [
      "<ipython-input-7-8a2bc7434711>:6: DeprecationWarning: The QuantumCircuit.cu3 method is deprecated as of 0.16.0. It will be removed no earlier than 3 months after the release date. You should use the QuantumCircuit.cu method instead, where cu3(ϴ,φ,λ) = cu(ϴ,φ,λ,0).\n",
      "  qConv.cu3(paramDict['theta'][index], paramDict['phi'][index], paramDict['lam'][index],\n",
      "<ipython-input-9-9b47e293653e>:2: DeprecationWarning: The QuantumCircuit.__add__() method is being deprecated.Use the compose() method which is more flexible w.r.t circuit register compatibility.\n",
      "  finalCircuit += qConvLayer(params, 0, numOfInputs) + qConvLayer(params, 1, numOfInputs)\n",
      "/opt/conda/lib/python3.8/site-packages/qiskit/circuit/quantumcircuit.py:869: DeprecationWarning: The QuantumCircuit.combine() method is being deprecated. Use the compose() method which is more flexible w.r.t circuit register compatibility.\n",
      "  return self.combine(rhs)\n"
     ]
    },
    {
     "data": {
      "image/png": "[encoded data removed]",
      "text/plain": [
       "<Figure size 688.597x565.88 with 1 Axes>"
      ]
     },
     "execution_count": 9,
     "metadata": {},
     "output_type": "execute_result"
    }
   ],
   "source": [
    "finalCircuit.barrier()\n",
    "finalCircuit += qConvLayer(params, 0, numOfInputs) + qConvLayer(params, 1, numOfInputs)\n",
    "finalCircuit += qPoolLayer(numOfInputs)\n",
    "finalCircuit.draw()"
   ]
  },
  {
   "cell_type": "code",
   "execution_count": 10,
   "id": "86219389",
   "metadata": {},
   "outputs": [
    {
     "data": {
      "image/png": "[encoded data removed]",
      "text/plain": [
       "<Figure size 504x360 with 1 Axes>"
      ]
     },
     "execution_count": 10,
     "metadata": {},
     "output_type": "execute_result"
    }
   ],
   "source": [
    "sim = Aer.get_backend('qasm_simulator')  # this is the simulator we'll use\n",
    "qobj = assemble(finalCircuit)  # this turns the circuit into an object our backend can run\n",
    "result = sim.run(qobj).result()  # we run the experiment and get the result from that experiment\n",
    "# from the results, we get a dictionary containing the number of times (counts)\n",
    "# each result appeared\n",
    "counts = result.get_counts()\n",
    "# and display it on a histogram\n",
    "plot_histogram(counts)"
   ]
  },
  {
   "cell_type": "code",
   "execution_count": null,
   "id": "53c58e51",
   "metadata": {},
   "outputs": [],
   "source": []
  },
  {
   "cell_type": "code",
   "execution_count": null,
   "id": "47a8662d",
   "metadata": {},
   "outputs": [],
   "source": []
  }
 ],
 "metadata": {
  "kernelspec": {
   "display_name": "Python 3",
   "language": "python",
   "name": "python3"
  },
  "language_info": {
   "codemirror_mode": {
    "name": "ipython",
    "version": 3
   },
   "file_extension": ".py",
   "mimetype": "text/x-python",
   "name": "python",
   "nbconvert_exporter": "python",
   "pygments_lexer": "ipython3",
   "version": "3.8.8"
  }
 },
 "nbformat": 4,
 "nbformat_minor": 5
}
